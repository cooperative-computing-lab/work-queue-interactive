{
 "cells": [
  {
   "cell_type": "code",
   "execution_count": 1,
   "id": "d297a417",
   "metadata": {},
   "outputs": [
    {
     "data": {
      "application/vnd.jupyter.widget-view+json": {
       "model_id": "55d27877963146a89d6fa047660c2ae4",
       "version_major": 2,
       "version_minor": 0
      },
      "text/plain": [
       "HBox(children=(IntRangeSlider(value=(2, 100), continuous_update=False, description='Value Range:', max=1000, m…"
      ]
     },
     "metadata": {},
     "output_type": "display_data"
    }
   ],
   "source": [
    "#!/usr/bin/env python\n",
    "\n",
    "# Copyright (c) 2021- The University of Notre Dame.\n",
    "# This software is distributed under the GNU General Public License.\n",
    "# See the file COPYING for details.\n",
    "\n",
    "# This program is a demonstration of using Work Queue with PyTask\n",
    "# PyTask allows python functions and their arguments to be bottled up and sent as a task to workers\n",
    "# This example program finds prime numbers in a range\n",
    "# PyTask sends the function to find the primality of a given number as a task for all numbers in the given range\n",
    "\n",
    "# How to work this program:\n",
    "# Run this cell, and afterwards two sliders and a textbox will appear containing parameters for the program that can be adjusted\n",
    "# Starting number is the first number to be checked for primality, and the Number of tasks is how many numbers after the starting number that will also be checked\n",
    "# Max number of workers defines a value for what is the largest amount of workers the program will create\n",
    "# Keep them at the default values for the first time the program is ran\n",
    "# Afterwards, run the cell below\n",
    "# Real time output, as well as some informative diagnostic numbers, will then be shown at the very bottom of the notebook\n",
    "# Grey cells are tasks that have been submitted, yellow cells are tasks that are currently being worked on,\n",
    "# Dark green cells are tasks that have finished and returned that the number is composite, light green cells are prime numbers\n",
    "# After the Workqueue Status textbox displays \"All tasks complete!\", the program is finished! Then feel free to play around with the numbers below\n",
    "\n",
    "import work_queue as wq\n",
    "import ipywidgets as widgets\n",
    "import time\n",
    "import widget_control \n",
    "\n",
    "display = widget_control.Display()\n",
    "display.create_user_input_widgets()"
   ]
  },
  {
   "cell_type": "code",
   "execution_count": 4,
   "id": "roman-integral",
   "metadata": {
    "scrolled": true
   },
   "outputs": [
    {
     "data": {
      "application/vnd.jupyter.widget-view+json": {
       "model_id": "f56e3a0d91ac49178976222e0011a5a0",
       "version_major": 2,
       "version_minor": 0
      },
      "text/plain": [
       "HBox(children=(Text(value='Initializing workers', description='Workqueue Status', disabled=True, style=Descrip…"
      ]
     },
     "metadata": {},
     "output_type": "display_data"
    },
    {
     "data": {
      "application/vnd.jupyter.widget-view+json": {
       "model_id": "26433db54cba4b5e8392e27188c11da9",
       "version_major": 2,
       "version_minor": 0
      },
      "text/plain": [
       "HBox(children=(IntProgress(value=0, description='Percent of tasks complete:', max=541, style=ProgressStyle(des…"
      ]
     },
     "metadata": {},
     "output_type": "display_data"
    },
    {
     "data": {
      "application/vnd.jupyter.widget-view+json": {
       "model_id": "78f18f68ba2d4d3c93b27eab9c154aa5",
       "version_major": 2,
       "version_minor": 0
      },
      "text/plain": [
       "VBox(children=(HBox(children=(ToggleButton(value=False, description='459', layout=Layout(height='20px', width=…"
      ]
     },
     "metadata": {},
     "output_type": "display_data"
    }
   ],
   "source": [
    "# function to create the display at the bottom of the notebook\n",
    "display.create_output_widgets()\n",
    "\n",
    "def is_prime(number): # this is the function to determine the primality of a number\n",
    "    import math, time # PyTask uses this function to create the tasks in order to determine which numbers are prime\n",
    "    for i in range(2, int(math.sqrt(number)) + 1):\n",
    "            if (number % i == 0):\n",
    "                return 0 # composite\n",
    "    return 1 # prime\n",
    "\n",
    "# create the Work Queue queue and specify the number of workers as well as the properties of those workers\n",
    "q = wq.WorkQueue(0) # specify the port to create the workers on. 0 selects a random unused port\n",
    "workers = wq.Factory('local', manager_host_port=f'localhost:{q.port}')\n",
    "workers.cores = 1\n",
    "workers.memory = 100\n",
    "workers.disk = 100\n",
    "workers.min_workers = 1\n",
    "workers.max_workers = display.num_workers.value\n",
    "\n",
    "with workers: # this line instantiates the workers\n",
    "    # loop through the range of numbers desired and use PyTask to create tasks to determine their primality\n",
    "    # range from the starting value to the starting value plus the total number of tasks desired\n",
    "    for i in range(display.tasks_range.value[0], display.tasks_range.value[1] + 1):\n",
    "        p_task = wq.PythonTask(is_prime, i) # create the task\n",
    "        p_task.specify_environment(\"worker-env.tar.gz\") # This line ensures that the workers have access to the proper libraries\n",
    "        q.submit(p_task) # submit the tasks into the queue\n",
    "        \n",
    "    while not q.empty(): # continue until all the tasks have been completed\n",
    "        t = q.wait(5) # give control to Work Queue so that it can talk to workers\n",
    "        if t:\n",
    "            if t.return_status != 0: # The task failed\n",
    "                continue\n",
    "            display.update_output_widgets(q, t) # update output widgets       \n",
    "                              "
   ]
  }
 ],
 "metadata": {
  "kernelspec": {
   "display_name": "Python 3 (ipykernel)",
   "language": "python",
   "name": "python3"
  },
  "language_info": {
   "codemirror_mode": {
    "name": "ipython",
    "version": 3
   },
   "file_extension": ".py",
   "mimetype": "text/x-python",
   "name": "python",
   "nbconvert_exporter": "python",
   "pygments_lexer": "ipython3",
   "version": "3.8.10"
  },
  "metadata": {
   "interpreter": {
    "hash": "202893b2fb2d862276ef4222df57aaac0db00b652ff02bbc43a600d07b7c5397"
   }
  }
 },
 "nbformat": 4,
 "nbformat_minor": 5
}
