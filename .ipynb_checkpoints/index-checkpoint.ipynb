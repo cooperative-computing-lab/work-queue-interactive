{
 "cells": [
  {
   "cell_type": "code",
   "execution_count": 1,
   "id": "d297a417",
   "metadata": {},
   "outputs": [
    {
     "ename": "ImportError",
     "evalue": "cannot import name 'progress_tracker' from 'widget_control' (/afs/crc.nd.edu/user/d/dsimone2/Documents/interactive/work-queue-interactive/binder/widget_control.py)",
     "output_type": "error",
     "traceback": [
      "\u001b[0;31m---------------------------------------------------------------------------\u001b[0m",
      "\u001b[0;31mImportError\u001b[0m                               Traceback (most recent call last)",
      "\u001b[0;32m/tmp/ipykernel_12434/223832555.py\u001b[0m in \u001b[0;36m<module>\u001b[0;34m\u001b[0m\n\u001b[1;32m      8\u001b[0m \u001b[0;32mimport\u001b[0m \u001b[0mipywidgets\u001b[0m \u001b[0;32mas\u001b[0m \u001b[0mwidgets\u001b[0m\u001b[0;34m\u001b[0m\u001b[0;34m\u001b[0m\u001b[0m\n\u001b[1;32m      9\u001b[0m \u001b[0;32mimport\u001b[0m \u001b[0mtime\u001b[0m\u001b[0;34m\u001b[0m\u001b[0;34m\u001b[0m\u001b[0m\n\u001b[0;32m---> 10\u001b[0;31m \u001b[0;32mfrom\u001b[0m \u001b[0mwidget_control\u001b[0m \u001b[0;32mimport\u001b[0m \u001b[0mget_user_input_widgets\u001b[0m\u001b[0;34m,\u001b[0m \u001b[0mget_output_widgets\u001b[0m\u001b[0;34m,\u001b[0m \u001b[0mprogress_tracker\u001b[0m\u001b[0;34m\u001b[0m\u001b[0;34m\u001b[0m\u001b[0m\n\u001b[0m\u001b[1;32m     11\u001b[0m \u001b[0;34m\u001b[0m\u001b[0m\n\u001b[1;32m     12\u001b[0m \u001b[0minput_widgets\u001b[0m \u001b[0;34m=\u001b[0m \u001b[0mget_user_input_widgets\u001b[0m\u001b[0;34m(\u001b[0m\u001b[0;34m)\u001b[0m\u001b[0;34m\u001b[0m\u001b[0;34m\u001b[0m\u001b[0m\n",
      "\u001b[0;31mImportError\u001b[0m: cannot import name 'progress_tracker' from 'widget_control' (/afs/crc.nd.edu/user/d/dsimone2/Documents/interactive/work-queue-interactive/binder/widget_control.py)"
     ]
    }
   ],
   "source": [
    "#!/usr/bin/env python\n",
    "\n",
    "# Copyright (c) 2010- The University of Notre Dame.\n",
    "# This software is distributed under the GNU General Public License.\n",
    "# See the file COPYING for details.\n",
    "\n",
    "import work_queue as wq\n",
    "import ipywidgets as widgets\n",
    "import time\n",
    "from widget_control import get_user_input_widgets, get_output_widgets, create_progress_tracker\n",
    "\n",
    "input_widgets = get_user_input_widgets()\n",
    "display(widgets.HBox(input_widgets))"
   ]
  },
  {
   "cell_type": "code",
   "execution_count": null,
   "id": "roman-integral",
   "metadata": {
    "scrolled": true
   },
   "outputs": [],
   "source": [
    "number_of_tasks = input_widgets[0]\n",
    "number_of_workers = input_widgets[1]\n",
    "starting_number = input_widgets[2]\n",
    "\n",
    "def is_prime(number):\n",
    "    import math, time\n",
    "    for i in range(2, int(math.sqrt(number)) + 1):\n",
    "            if (number % i == 0):\n",
    "                return 0\n",
    "    return 1\n",
    "\n",
    "output_widgets = get_output_widgets(number_of_tasks.value, number_of_workers.value)\n",
    "\n",
    "display(widgets.HBox([output_widgets[0], output_widgets[1], output_widgets[2]]))\n",
    "display(output_widgets[3])\n",
    "display(widgets.HBox(output_widgets[4]))\n",
    "\n",
    "task_output_storage = []\n",
    "create_progress_tracker(task_output_storage, number_of_tasks.value, starting_number.value, number_of_workers.value)\n",
    "\n",
    "q = wq.WorkQueue(0)\n",
    "workers = wq.Factory('local', manager_host_port=f'localhost:{q.port}')\n",
    "workers.cores = 1\n",
    "workers.memory = 100\n",
    "workers.disk = 100\n",
    "workers.min_workers = 5\n",
    "workers.max_workers = number_of_workers.value\n",
    "\n",
    "for i in range(starting_number.value, starting_number.value + number_of_tasks.value + 1):\n",
    "    p_task = wq.PythonTask(is_prime, i)\n",
    "    p_task.specify_environment(\"worker-env.tar.gz\")\n",
    "    q.submit(p_task)\n",
    "    \n",
    "starting_time = time.perf_counter()\n",
    "\n",
    "with workers:\n",
    "    while not q.empty():\n",
    "        t = q.wait(1)\n",
    "        if t:\n",
    "            x = t.output\n",
    "            if x == 1:\n",
    "                task_output_storage[int(t.id) + 1].disabled = True\n",
    "            task_output_storage[int(t.id) + 1].button_style = 'success'\n",
    "            for i in range(q.stats.workers_connected + 1):\n",
    "                if (int(t.id) + 1 - i) > 0:\n",
    "                    if (task_output_storage[int(t.id) + 1 - i].button_style == ''):\n",
    "                        task_output_storage[int(t.id) + 1 - i].button_style='warning'\n",
    "        output_widgets[0].value = q.stats.tasks_done\n",
    "        output_widgets[3].value = output_widgets[0].value / (time.perf_counter() - starting_time)\n",
    "        output_widgets[2].value = q.stats.workers_idle\n",
    "        output_widgets[1].value = q.stats.workers_connected\n",
    "        #print(q.stats.workers_connected)\n",
    "        #worker_array[0].value = str(q.workers_summary()[0]['workers'])\n",
    "        #worker_array[1].value = str(q.workers_summary()[0]['cores'])\n",
    "        #worker_array[2].value = str(q.workers_summary()[0]['memory'])\n",
    "        #worker_array[3].value = str(q.workers_summary()[0]['disk'])\n",
    "        #worker_array[4].value = str(q.workers_summary()[0]['gpus'])\n",
    "                    \n",
    "                    \n",
    "#q.stats.tasks_done                \n",
    "print(\"all tasks complete!\")"
   ]
  },
  {
   "cell_type": "code",
   "execution_count": null,
   "id": "2e20de83",
   "metadata": {},
   "outputs": [],
   "source": []
  }
 ],
 "metadata": {
  "kernelspec": {
   "display_name": "Python 3 (ipykernel)",
   "language": "python",
   "name": "python3"
  },
  "language_info": {
   "codemirror_mode": {
    "name": "ipython",
    "version": 3
   },
   "file_extension": ".py",
   "mimetype": "text/x-python",
   "name": "python",
   "nbconvert_exporter": "python",
   "pygments_lexer": "ipython3",
   "version": "3.8.10"
  },
  "metadata": {
   "interpreter": {
    "hash": "202893b2fb2d862276ef4222df57aaac0db00b652ff02bbc43a600d07b7c5397"
   }
  }
 },
 "nbformat": 4,
 "nbformat_minor": 5
}
