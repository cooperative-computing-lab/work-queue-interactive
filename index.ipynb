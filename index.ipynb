{
 "cells": [
  {
   "cell_type": "code",
   "execution_count": 9,
   "id": "d297a417",
   "metadata": {},
   "outputs": [
    {
     "data": {
      "application/vnd.jupyter.widget-view+json": {
       "model_id": "01d3be9080a246e0879a3420bdcae1e7",
       "version_major": 2,
       "version_minor": 0
      },
      "text/plain": [
       "HBox(children=(IntSlider(value=100, continuous_update=False, description='Number of tasks:', max=1000, min=20,…"
      ]
     },
     "metadata": {},
     "output_type": "display_data"
    }
   ],
   "source": [
    "#!/usr/bin/env python\n",
    "\n",
    "# Copyright (c) 2021- The University of Notre Dame.\n",
    "# This software is distributed under the GNU General Public License.\n",
    "# See the file COPYING for details.\n",
    "\n",
    "# This program is a demonstration of using Work Queue with PyTask\n",
    "# PyTask allows python functions and their arguments to be bottled up and sent as a task to workers\n",
    "# This example program finds prime numbers in a range\n",
    "# PyTask sends the function to find the primality of a given number as a task for all numbers in the given range\n",
    "\n",
    "# How to work this program:\n",
    "# Run this cell, and afterwards two sliders and a textbox will appear containing parameters for the program that can be adjusted\n",
    "# Starting number is the first number to be checked for primality, and the Number of tasks is how many numbers after the starting number that will also be checked\n",
    "# Max number of workers defines a value for what is the largest amount of workers the program will create\n",
    "# Keep them at the default values for the first time the program is ran\n",
    "# Afterwards, run the cell below\n",
    "# Real time output, as well as some informative diagnostic numbers, will then be shown at the very bottom of the notebook\n",
    "# Grey cells are tasks that have been submitted, yellow cells are tasks that are currently being worked on,\n",
    "# Dark green cells are tasks that have finished and returned that the number is composite, light green cells are prime numbers\n",
    "# After the Workqueue Status textbox displays \"All tasks complete!\", the program is finished! Then feel free to play around with the numbers below\n",
    "\n",
    "import work_queue as wq\n",
    "import ipywidgets as widgets\n",
    "import time\n",
    "from widget_control import get_user_input_widgets, get_output_widgets, create_progress_tracker\n",
    "\n",
    "input_widgets = get_user_input_widgets() # creates the three input widgets below this cell\n",
    "display(widgets.HBox(input_widgets)) # displays the input widgets "
   ]
  },
  {
   "cell_type": "code",
   "execution_count": 12,
   "id": "roman-integral",
   "metadata": {
    "scrolled": true
   },
   "outputs": [
    {
     "data": {
      "application/vnd.jupyter.widget-view+json": {
       "model_id": "4cea19a5bd5c44d49ee4d7391700a682",
       "version_major": 2,
       "version_minor": 0
      },
      "text/plain": [
       "HBox(children=(Text(value='', description='Workqueue Status', disabled=True, style=DescriptionStyle(descriptio…"
      ]
     },
     "metadata": {},
     "output_type": "display_data"
    },
    {
     "data": {
      "application/vnd.jupyter.widget-view+json": {
       "model_id": "8e9b87d300f7418391e81cd155eb038c",
       "version_major": 2,
       "version_minor": 0
      },
      "text/plain": [
       "HBox(children=(IntProgress(value=0, description='Percent of tasks complete:', style=ProgressStyle(description_…"
      ]
     },
     "metadata": {},
     "output_type": "display_data"
    },
    {
     "data": {
      "application/vnd.jupyter.widget-view+json": {
       "model_id": "c81365e4c3d24664b7bba3782a4098ab",
       "version_major": 2,
       "version_minor": 0
      },
      "text/plain": [
       "VBox(children=(HBox(children=(ToggleButton(value=False, description='2', layout=Layout(height='20px', width='2…"
      ]
     },
     "metadata": {},
     "output_type": "display_data"
    }
   ],
   "source": [
    "def is_prime(number): # this is the function to determine the primality of a number\n",
    "    import math, time # PyTask uses this function to create the tasks in order to determine which numbers are prime\n",
    "    for i in range(2, int(math.sqrt(number)) + 1):\n",
    "            if (number % i == 0):\n",
    "                return 0 # composite\n",
    "    return 1 # prime\n",
    "\n",
    "# the three following lines are just shortcuts to access the input widget numbers\n",
    "number_of_tasks = input_widgets[0] \n",
    "number_of_workers = input_widgets[1]\n",
    "starting_number = input_widgets[2]\n",
    "\n",
    "# function to create the display at the bottom of the notebook\n",
    "output_widgets = get_output_widgets(number_of_tasks.value, number_of_workers.value)\n",
    "status_message = output_widgets[5]\n",
    "worker_time = output_widgets[6]\n",
    "\n",
    "# display output information\n",
    "display(widgets.HBox([status_message, output_widgets[3], worker_time]))\n",
    "display(widgets.HBox([output_widgets[0], output_widgets[1], output_widgets[2]]))\n",
    "task_output_storage = []\n",
    "create_progress_tracker(task_output_storage, number_of_tasks.value, starting_number.value, number_of_workers.value)\n",
    "\n",
    "# create the Work Queue queue and specify the number of workers as well as the properties of those workers\n",
    "status_message.value = \"Initializing Work Queue\"\n",
    "q = wq.WorkQueue(0) # specify the port to create the workers on. 0 selects a random unused port\n",
    "workers = wq.Factory('local', manager_host_port=f'localhost:{q.port}')\n",
    "workers.cores = 1\n",
    "workers.memory = 100\n",
    "workers.disk = 100\n",
    "workers.min_workers = 5\n",
    "workers.max_workers = number_of_workers.value\n",
    "\n",
    "# loop through the range of numbers desired and use PyTask to create tasks to determine their primality\n",
    "status_message.value = \"Creating tasks\"\n",
    "for i in range(starting_number.value, starting_number.value + number_of_tasks.value + 1):\n",
    "    p_task = wq.PythonTask(is_prime, i) # create the task\n",
    "    p_task.specify_environment(\"worker-env.tar.gz\") # This line ensures that the workers have access to the proper libraries\n",
    "    q.submit(p_task) # submit the tasks into the queue\n",
    "    \n",
    "starting_time = time.perf_counter() # track time since tasks were submitted: used in output display\n",
    "status_message.value = \"Initializing workers\"\n",
    "workers_initialized = False # used to track status messages\n",
    "\n",
    "with workers: # this line instantiates the workers\n",
    "    while not q.empty(): # continue until all the tasks have been completed\n",
    "        if workers_initialized: \n",
    "            status_message.value = \"Waiting for workers to return\"\n",
    "        t = q.wait(5) # give control to Work Queue so that it can talk to workers\n",
    "        \n",
    "        if t:\n",
    "            workers_initialized = True \n",
    "            status_message.value = \"Updating output\"\n",
    "            x = t.output\n",
    "            if x == 1: # if x is a prime number then update it accordingly\n",
    "                task_output_storage[int(t.id) + 1].disabled = True\n",
    "            task_output_storage[int(t.id) + 1].button_style = 'success'\n",
    "            \n",
    "            for i in range(q.stats.workers_connected + 1): # update the display of which tasks are currently being worked on\n",
    "                if (int(t.id) + 1 - i) > 0:\n",
    "                    if (task_output_storage[int(t.id) + 1 - i].button_style == ''):\n",
    "                        task_output_storage[int(t.id) + 1 - i].button_style='warning'\n",
    "                        \n",
    "        # update output widgets\n",
    "        output_widgets[0].value = q.stats.tasks_done\n",
    "        output_widgets[1].value = q.stats.workers_connected\n",
    "        output_widgets[2].value = q.stats.workers_idle\n",
    "        output_widgets[3].value = output_widgets[0].value / (time.perf_counter() - starting_time)\n",
    "        worker_time.value = str(q.stats.time_workers_execute / 1000000)\n",
    "                              \n",
    "status_message.value = \"All tasks complete!\""
   ]
  }
 ],
 "metadata": {
  "kernelspec": {
   "display_name": "Python 3 (ipykernel)",
   "language": "python",
   "name": "python3"
  },
  "language_info": {
   "codemirror_mode": {
    "name": "ipython",
    "version": 3
   },
   "file_extension": ".py",
   "mimetype": "text/x-python",
   "name": "python",
   "nbconvert_exporter": "python",
   "pygments_lexer": "ipython3",
   "version": "3.8.10"
  },
  "metadata": {
   "interpreter": {
    "hash": "202893b2fb2d862276ef4222df57aaac0db00b652ff02bbc43a600d07b7c5397"
   }
  }
 },
 "nbformat": 4,
 "nbformat_minor": 5
}
