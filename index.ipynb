{
 "cells": [
  {
   "cell_type": "code",
   "execution_count": 1,
   "id": "d297a417",
   "metadata": {},
   "outputs": [
    {
     "data": {
      "application/vnd.jupyter.widget-view+json": {
       "model_id": "8ab0e2e3236a4082b4422a27ebea422e",
       "version_major": 2,
       "version_minor": 0
      },
      "text/plain": [
       "IntSlider(value=100, continuous_update=False, description='Number of tasks:', max=1000, min=20)"
      ]
     },
     "metadata": {},
     "output_type": "display_data"
    },
    {
     "data": {
      "application/vnd.jupyter.widget-view+json": {
       "model_id": "7f5c449f0d4647689211380cc1f1eae6",
       "version_major": 2,
       "version_minor": 0
      },
      "text/plain": [
       "IntSlider(value=10, continuous_update=False, description='Number of tasks:', max=30, min=5)"
      ]
     },
     "metadata": {},
     "output_type": "display_data"
    }
   ],
   "source": [
    "import sys\n",
    "#sys.path.append('/afs/crc.nd.edu/user/d/dsimone2/cctools/lib/python3.8/site-packages')\n",
    "import work_queue as wq\n",
    "import ipywidgets as widgets\n",
    "import time\n",
    "\n",
    "num_tasks = widgets.IntSlider(\n",
    "    value=100,\n",
    "    min=20,\n",
    "    max=1000,\n",
    "    step=1,\n",
    "    description='Number of tasks:',\n",
    "    disabled=False,\n",
    "    continuous_update=False,\n",
    "    orientation='horizontal',\n",
    "    readout=True,\n",
    "    readout_format='d'\n",
    ")\n",
    "num_workers = widgets.IntSlider(\n",
    "    value=10,\n",
    "    min=5,\n",
    "    max=30,\n",
    "    step=1,\n",
    "    description='Number of tasks:',\n",
    "    disabled=False,\n",
    "    continuous_update=False,\n",
    "    orientation='horizontal',\n",
    "    readout=True,\n",
    "    readout_format='d'\n",
    ")\n",
    "\n",
    "display(num_tasks)\n",
    "display(num_workers)"
   ]
  },
  {
   "cell_type": "code",
   "execution_count": null,
   "id": "roman-integral",
   "metadata": {},
   "outputs": [
    {
     "data": {
      "application/vnd.jupyter.widget-view+json": {
       "model_id": "18269606c2d643e8b4dacd53e39a1209",
       "version_major": 2,
       "version_minor": 0
      },
      "text/plain": [
       "HBox(children=(IntProgress(value=0, description='Number of tasks complete:', style=ProgressStyle(description_w…"
      ]
     },
     "metadata": {},
     "output_type": "display_data"
    },
    {
     "data": {
      "application/vnd.jupyter.widget-view+json": {
       "model_id": "0de62da51dbc4ac1b8f5815dba2ae10e",
       "version_major": 2,
       "version_minor": 0
      },
      "text/plain": [
       "VBox(children=(HBox(children=(ToggleButton(value=False, description='2', layout=Layout(height='20px', width='2…"
      ]
     },
     "metadata": {},
     "output_type": "display_data"
    },
    {
     "data": {
      "application/vnd.jupyter.widget-view+json": {
       "model_id": "c4ca6106a7774c8c87bb12ee97a8265c",
       "version_major": 2,
       "version_minor": 0
      },
      "text/plain": [
       "HBox(children=(Text(value='', description='Number of workers', layout=Layout(height='40px', width='15%')), Tex…"
      ]
     },
     "metadata": {},
     "output_type": "display_data"
    },
    {
     "name": "stdout",
     "output_type": "stream",
     "text": [
      "5\n",
      "5\n",
      "5\n",
      "5\n",
      "5\n",
      "5\n",
      "5\n",
      "5\n",
      "5\n",
      "5\n",
      "5\n",
      "5\n",
      "5\n"
     ]
    }
   ],
   "source": [
    "#!/usr/bin/env python\n",
    "\n",
    "# Copyright (c) 2010- The University of Notre Dame.\n",
    "# This software is distributed under the GNU General Public License.\n",
    "# See the file COPYING for details.\n",
    "\n",
    "PORT = 0\n",
    "number_of_tasks = num_tasks.value\n",
    "starting_number = 2\n",
    "\n",
    "def is_prime(number):\n",
    "    import math\n",
    "    time.sleep(10)\n",
    "    for i in range(2, int(math.sqrt(number)) + 1):\n",
    "            if (number % i == 0):\n",
    "                return 0\n",
    "    return 1\n",
    "\n",
    "horizontal_boxes = 20\n",
    "vertical_boxes = number_of_tasks // horizontal_boxes + 1\n",
    "\n",
    "def display_output(prime):\n",
    "    vertical_temp = []\n",
    "    for j in range(vertical_boxes):\n",
    "        horizontal_temp = []\n",
    "        for i in range(horizontal_boxes):\n",
    "            if (i + j * horizontal_boxes + 2) > number_of_tasks:\n",
    "                break\n",
    "            horizontal_temp.append(prime[i + j * horizontal_boxes + 2])\n",
    "        vertical_temp.append(widgets.HBox(horizontal_temp))\n",
    "    output = widgets.VBox(vertical_temp)\n",
    "    display(output)\n",
    "\n",
    "\n",
    "prime = []\n",
    "for i in range(starting_number, starting_number + number_of_tasks + num_workers.value + 10):\n",
    "    prime.append(widgets.ToggleButton(\n",
    "        value=False,\n",
    "        description=str(i - 2),\n",
    "        disabled=False,\n",
    "        button_style='', # 'success', 'info', 'warning', 'danger' or ''\n",
    "        layout=widgets.Layout(width='20%', height='20px')\n",
    "    ))\n",
    "    \n",
    "tasks_done_bar = widgets.IntProgress(\n",
    "    value=0,\n",
    "    min=0,\n",
    "    max=number_of_tasks,\n",
    "    description='Number of tasks complete:',\n",
    "    style = {'description_width': 'initial'},\n",
    "    orientation='horizontal'\n",
    ")\n",
    "tasks_idling = widgets.IntProgress(\n",
    "    value=0,\n",
    "    min=0,\n",
    "    max=5,\n",
    "    description='Number of workers idle',\n",
    "    style = {'description_width': 'initial'},\n",
    "    orientation='horizontal'\n",
    ")\n",
    "workers_connected = widgets.IntProgress(\n",
    "    value=0,\n",
    "    min=0,\n",
    "    max=num_workers.value,\n",
    "    description='Number of workers connected',\n",
    "    style = {'description_width': 'initial'},\n",
    "    orientation='horizontal'\n",
    ")\n",
    "worker_properties = [\"Number of workers\", \"Cores\", \"Memory\", \"Disk\", \"GPUs\"]\n",
    "worker_array = []\n",
    "for name in worker_properties:\n",
    "    worker_array.append(widgets.Text(description=name, layout=widgets.Layout(width='15%', height='40px')))\n",
    "display(widgets.HBox([tasks_done_bar, workers_connected, tasks_idling]))\n",
    "display_output(prime)\n",
    "display(widgets.HBox(worker_array))\n",
    "\n",
    "q = wq.WorkQueue(PORT)\n",
    "workers = wq.Factory('local', manager_host_port=f'localhost:{q.port}')\n",
    "workers.cores = 1\n",
    "workers.memory = 100\n",
    "workers.disk = 100\n",
    "workers.min_workers = 10\n",
    "workers.max_workers = num_workers.value\n",
    "\n",
    "for i in range(2, number_of_tasks + 1):\n",
    "    p_task = wq.PythonTask(is_prime, i)\n",
    "    p_task.specify_environment(\"my-minimal-env.tar.gz\")\n",
    "    q.submit(p_task)\n",
    "\n",
    "with workers:\n",
    "    while not q.empty():\n",
    "        t = q.wait(1)\n",
    "        if t:\n",
    "            x = t.output\n",
    "            if x == 1:\n",
    "                prime[int(t.id) + 1].disabled = True\n",
    "            prime[int(t.id) + 1].button_style = 'success'\n",
    "            for i in range(q.stats.workers_connected + 1):\n",
    "                if (int(t.id) + 1 - i) > 0:\n",
    "                    if (prime[int(t.id) + 1 - i].button_style == ''):\n",
    "                        prime[int(t.id) + 1 - i].button_style='warning'\n",
    "        tasks_done_bar.value = q.stats.tasks_done\n",
    "        tasks_idling.value = q.stats.workers_idle\n",
    "        workers_connected.value = q.stats.workers_connected\n",
    "        print(q.stats.workers_connected)\n",
    "        #worker_array[0].value = str(q.workers_summary()[0]['workers'])\n",
    "        #worker_array[1].value = str(q.workers_summary()[0]['cores'])\n",
    "        #worker_array[2].value = str(q.workers_summary()[0]['memory'])\n",
    "        #worker_array[3].value = str(q.workers_summary()[0]['disk'])\n",
    "        #worker_array[4].value = str(q.workers_summary()[0]['gpus'])\n",
    "                    \n",
    "                    \n",
    "#q.stats.tasks_done                \n",
    "print(\"all tasks complete!\")"
   ]
  },
  {
   "cell_type": "code",
   "execution_count": null,
   "id": "2e20de83",
   "metadata": {},
   "outputs": [],
   "source": []
  }
 ],
 "metadata": {
  "kernelspec": {
   "display_name": "Python 3 (ipykernel)",
   "language": "python",
   "name": "python3"
  },
  "language_info": {
   "codemirror_mode": {
    "name": "ipython",
    "version": 3
   },
   "file_extension": ".py",
   "mimetype": "text/x-python",
   "name": "python",
   "nbconvert_exporter": "python",
   "pygments_lexer": "ipython3",
   "version": "3.8.10"
  },
  "metadata": {
   "interpreter": {
    "hash": "202893b2fb2d862276ef4222df57aaac0db00b652ff02bbc43a600d07b7c5397"
   }
  }
 },
 "nbformat": 4,
 "nbformat_minor": 5
}
